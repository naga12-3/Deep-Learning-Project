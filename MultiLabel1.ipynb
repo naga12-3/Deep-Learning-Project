{
  "nbformat": 4,
  "nbformat_minor": 0,
  "metadata": {
    "colab": {
      "name": "MultiLabel1.ipynb",
      "provenance": [],
      "collapsed_sections": []
    },
    "kernelspec": {
      "name": "python3",
      "display_name": "Python 3"
    },
    "language_info": {
      "name": "python"
    },
    "accelerator": "GPU",
    "widgets": {
      "application/vnd.jupyter.widget-state+json": {
        "7dadd637634b4506993c24bae7b2423f": {
          "model_module": "@jupyter-widgets/controls",
          "model_name": "HBoxModel",
          "model_module_version": "1.5.0",
          "state": {
            "_view_name": "HBoxView",
            "_dom_classes": [],
            "_model_name": "HBoxModel",
            "_view_module": "@jupyter-widgets/controls",
            "_model_module_version": "1.5.0",
            "_view_count": null,
            "_view_module_version": "1.5.0",
            "box_style": "",
            "layout": "IPY_MODEL_90e62d6ef4904f70bcb8ec7420c71961",
            "_model_module": "@jupyter-widgets/controls",
            "children": [
              "IPY_MODEL_3aea8b3a9166414c8ff22fc38653b1ea",
              "IPY_MODEL_e84f3e1bd8fe4d9b9b898e5db2f7fb5f",
              "IPY_MODEL_84023591d3fb4ed8a859b44dc45739f8"
            ]
          }
        },
        "90e62d6ef4904f70bcb8ec7420c71961": {
          "model_module": "@jupyter-widgets/base",
          "model_name": "LayoutModel",
          "model_module_version": "1.2.0",
          "state": {
            "_view_name": "LayoutView",
            "grid_template_rows": null,
            "right": null,
            "justify_content": null,
            "_view_module": "@jupyter-widgets/base",
            "overflow": null,
            "_model_module_version": "1.2.0",
            "_view_count": null,
            "flex_flow": null,
            "width": null,
            "min_width": null,
            "border": null,
            "align_items": null,
            "bottom": null,
            "_model_module": "@jupyter-widgets/base",
            "top": null,
            "grid_column": null,
            "overflow_y": null,
            "overflow_x": null,
            "grid_auto_flow": null,
            "grid_area": null,
            "grid_template_columns": null,
            "flex": null,
            "_model_name": "LayoutModel",
            "justify_items": null,
            "grid_row": null,
            "max_height": null,
            "align_content": null,
            "visibility": null,
            "align_self": null,
            "height": null,
            "min_height": null,
            "padding": null,
            "grid_auto_rows": null,
            "grid_gap": null,
            "max_width": null,
            "order": null,
            "_view_module_version": "1.2.0",
            "grid_template_areas": null,
            "object_position": null,
            "object_fit": null,
            "grid_auto_columns": null,
            "margin": null,
            "display": null,
            "left": null
          }
        },
        "3aea8b3a9166414c8ff22fc38653b1ea": {
          "model_module": "@jupyter-widgets/controls",
          "model_name": "HTMLModel",
          "model_module_version": "1.5.0",
          "state": {
            "_view_name": "HTMLView",
            "style": "IPY_MODEL_4d3e59ed898040d7b03d0726ce90a729",
            "_dom_classes": [],
            "description": "",
            "_model_name": "HTMLModel",
            "placeholder": "​",
            "_view_module": "@jupyter-widgets/controls",
            "_model_module_version": "1.5.0",
            "value": "100%",
            "_view_count": null,
            "_view_module_version": "1.5.0",
            "description_tooltip": null,
            "_model_module": "@jupyter-widgets/controls",
            "layout": "IPY_MODEL_3a0a29c4689044ca9b6a08a01a070dae"
          }
        },
        "e84f3e1bd8fe4d9b9b898e5db2f7fb5f": {
          "model_module": "@jupyter-widgets/controls",
          "model_name": "FloatProgressModel",
          "model_module_version": "1.5.0",
          "state": {
            "_view_name": "ProgressView",
            "style": "IPY_MODEL_81c66bb472b34e4da9148af64625830b",
            "_dom_classes": [],
            "description": "",
            "_model_name": "FloatProgressModel",
            "bar_style": "success",
            "max": 102530333,
            "_view_module": "@jupyter-widgets/controls",
            "_model_module_version": "1.5.0",
            "value": 102530333,
            "_view_count": null,
            "_view_module_version": "1.5.0",
            "orientation": "horizontal",
            "min": 0,
            "description_tooltip": null,
            "_model_module": "@jupyter-widgets/controls",
            "layout": "IPY_MODEL_60a3d0b1021a42f3a911cf62f07c19af"
          }
        },
        "84023591d3fb4ed8a859b44dc45739f8": {
          "model_module": "@jupyter-widgets/controls",
          "model_name": "HTMLModel",
          "model_module_version": "1.5.0",
          "state": {
            "_view_name": "HTMLView",
            "style": "IPY_MODEL_ea9081d700794604b5873e4dd26e021e",
            "_dom_classes": [],
            "description": "",
            "_model_name": "HTMLModel",
            "placeholder": "​",
            "_view_module": "@jupyter-widgets/controls",
            "_model_module_version": "1.5.0",
            "value": " 97.8M/97.8M [00:01&lt;00:00, 66.4MB/s]",
            "_view_count": null,
            "_view_module_version": "1.5.0",
            "description_tooltip": null,
            "_model_module": "@jupyter-widgets/controls",
            "layout": "IPY_MODEL_eb99c5e9ed974ad2a96c831a450459d7"
          }
        },
        "4d3e59ed898040d7b03d0726ce90a729": {
          "model_module": "@jupyter-widgets/controls",
          "model_name": "DescriptionStyleModel",
          "model_module_version": "1.5.0",
          "state": {
            "_view_name": "StyleView",
            "_model_name": "DescriptionStyleModel",
            "description_width": "",
            "_view_module": "@jupyter-widgets/base",
            "_model_module_version": "1.5.0",
            "_view_count": null,
            "_view_module_version": "1.2.0",
            "_model_module": "@jupyter-widgets/controls"
          }
        },
        "3a0a29c4689044ca9b6a08a01a070dae": {
          "model_module": "@jupyter-widgets/base",
          "model_name": "LayoutModel",
          "model_module_version": "1.2.0",
          "state": {
            "_view_name": "LayoutView",
            "grid_template_rows": null,
            "right": null,
            "justify_content": null,
            "_view_module": "@jupyter-widgets/base",
            "overflow": null,
            "_model_module_version": "1.2.0",
            "_view_count": null,
            "flex_flow": null,
            "width": null,
            "min_width": null,
            "border": null,
            "align_items": null,
            "bottom": null,
            "_model_module": "@jupyter-widgets/base",
            "top": null,
            "grid_column": null,
            "overflow_y": null,
            "overflow_x": null,
            "grid_auto_flow": null,
            "grid_area": null,
            "grid_template_columns": null,
            "flex": null,
            "_model_name": "LayoutModel",
            "justify_items": null,
            "grid_row": null,
            "max_height": null,
            "align_content": null,
            "visibility": null,
            "align_self": null,
            "height": null,
            "min_height": null,
            "padding": null,
            "grid_auto_rows": null,
            "grid_gap": null,
            "max_width": null,
            "order": null,
            "_view_module_version": "1.2.0",
            "grid_template_areas": null,
            "object_position": null,
            "object_fit": null,
            "grid_auto_columns": null,
            "margin": null,
            "display": null,
            "left": null
          }
        },
        "81c66bb472b34e4da9148af64625830b": {
          "model_module": "@jupyter-widgets/controls",
          "model_name": "ProgressStyleModel",
          "model_module_version": "1.5.0",
          "state": {
            "_view_name": "StyleView",
            "_model_name": "ProgressStyleModel",
            "description_width": "",
            "_view_module": "@jupyter-widgets/base",
            "_model_module_version": "1.5.0",
            "_view_count": null,
            "_view_module_version": "1.2.0",
            "bar_color": null,
            "_model_module": "@jupyter-widgets/controls"
          }
        },
        "60a3d0b1021a42f3a911cf62f07c19af": {
          "model_module": "@jupyter-widgets/base",
          "model_name": "LayoutModel",
          "model_module_version": "1.2.0",
          "state": {
            "_view_name": "LayoutView",
            "grid_template_rows": null,
            "right": null,
            "justify_content": null,
            "_view_module": "@jupyter-widgets/base",
            "overflow": null,
            "_model_module_version": "1.2.0",
            "_view_count": null,
            "flex_flow": null,
            "width": null,
            "min_width": null,
            "border": null,
            "align_items": null,
            "bottom": null,
            "_model_module": "@jupyter-widgets/base",
            "top": null,
            "grid_column": null,
            "overflow_y": null,
            "overflow_x": null,
            "grid_auto_flow": null,
            "grid_area": null,
            "grid_template_columns": null,
            "flex": null,
            "_model_name": "LayoutModel",
            "justify_items": null,
            "grid_row": null,
            "max_height": null,
            "align_content": null,
            "visibility": null,
            "align_self": null,
            "height": null,
            "min_height": null,
            "padding": null,
            "grid_auto_rows": null,
            "grid_gap": null,
            "max_width": null,
            "order": null,
            "_view_module_version": "1.2.0",
            "grid_template_areas": null,
            "object_position": null,
            "object_fit": null,
            "grid_auto_columns": null,
            "margin": null,
            "display": null,
            "left": null
          }
        },
        "ea9081d700794604b5873e4dd26e021e": {
          "model_module": "@jupyter-widgets/controls",
          "model_name": "DescriptionStyleModel",
          "model_module_version": "1.5.0",
          "state": {
            "_view_name": "StyleView",
            "_model_name": "DescriptionStyleModel",
            "description_width": "",
            "_view_module": "@jupyter-widgets/base",
            "_model_module_version": "1.5.0",
            "_view_count": null,
            "_view_module_version": "1.2.0",
            "_model_module": "@jupyter-widgets/controls"
          }
        },
        "eb99c5e9ed974ad2a96c831a450459d7": {
          "model_module": "@jupyter-widgets/base",
          "model_name": "LayoutModel",
          "model_module_version": "1.2.0",
          "state": {
            "_view_name": "LayoutView",
            "grid_template_rows": null,
            "right": null,
            "justify_content": null,
            "_view_module": "@jupyter-widgets/base",
            "overflow": null,
            "_model_module_version": "1.2.0",
            "_view_count": null,
            "flex_flow": null,
            "width": null,
            "min_width": null,
            "border": null,
            "align_items": null,
            "bottom": null,
            "_model_module": "@jupyter-widgets/base",
            "top": null,
            "grid_column": null,
            "overflow_y": null,
            "overflow_x": null,
            "grid_auto_flow": null,
            "grid_area": null,
            "grid_template_columns": null,
            "flex": null,
            "_model_name": "LayoutModel",
            "justify_items": null,
            "grid_row": null,
            "max_height": null,
            "align_content": null,
            "visibility": null,
            "align_self": null,
            "height": null,
            "min_height": null,
            "padding": null,
            "grid_auto_rows": null,
            "grid_gap": null,
            "max_width": null,
            "order": null,
            "_view_module_version": "1.2.0",
            "grid_template_areas": null,
            "object_position": null,
            "object_fit": null,
            "grid_auto_columns": null,
            "margin": null,
            "display": null,
            "left": null
          }
        }
      }
    }
  },
  "cells": [
    {
      "cell_type": "code",
      "source": [
        "from google.colab import drive\n",
        "drive.mount('/content/drive')"
      ],
      "metadata": {
        "colab": {
          "base_uri": "https://localhost:8080/"
        },
        "id": "Q5XzO7Fr49ED",
        "outputId": "75171a16-78dc-461c-ccf9-34adb5a578f7"
      },
      "execution_count": null,
      "outputs": [
        {
          "output_type": "stream",
          "name": "stdout",
          "text": [
            "Mounted at /content/drive\n"
          ]
        }
      ]
    },
    {
      "cell_type": "code",
      "execution_count": null,
      "metadata": {
        "id": "qW5q8M3FUvj1"
      },
      "outputs": [],
      "source": [
        "import torch\n",
        "import cv2\n",
        "import numpy as np\n",
        "import torchvision.transforms as transforms\n",
        "from torch.utils.data import Dataset"
      ]
    },
    {
      "cell_type": "code",
      "source": [
        "class ImageDataset(Dataset):\n",
        "    def __init__(self, csv, train, test):\n",
        "        self.csv = csv\n",
        "        self.train = train\n",
        "        self.test = test\n",
        "        self.all_image_names = self.csv[:]['Id']\n",
        "        self.all_labels = np.array(self.csv.drop(['Id', 'Genre'], axis=1))\n",
        "        self.train_ratio = int(0.75 * len(self.csv))\n",
        "        self.valid_ratio = len(self.csv) - self.train_ratio\n",
        "        # set the training data images and labels\n",
        "        if self.train == True:\n",
        "            print(f\"Number of training images: {self.train_ratio}\")\n",
        "            self.image_names = list(self.all_image_names[:self.train_ratio])\n",
        "            self.labels = list(self.all_labels[:self.train_ratio])\n",
        "            # define the training transforms\n",
        "            self.transform = transforms.Compose([\n",
        "                transforms.ToPILImage(),\n",
        "                transforms.Resize((400, 400)),\n",
        "                transforms.RandomHorizontalFlip(p=0.5),\n",
        "                transforms.RandomRotation(degrees=45),\n",
        "                transforms.ToTensor(),\n",
        "            ])\n",
        "        # set the validation data images and labels\n",
        "        elif self.train == False and self.test == False:\n",
        "            print(f\"Number of validation images: {self.valid_ratio}\")\n",
        "            self.image_names = list(self.all_image_names[-self.valid_ratio:-300])\n",
        "            self.labels = list(self.all_labels[-self.valid_ratio:])\n",
        "            # define the validation transforms\n",
        "            self.transform = transforms.Compose([\n",
        "                transforms.ToPILImage(),\n",
        "                transforms.Resize((400, 400)),\n",
        "                transforms.ToTensor(),\n",
        "            ])\n",
        "        # set the test data images and labels, only last 10 images\n",
        "        # this, we will use in a separate inference script\n",
        "        elif self.test == True and self.train == False:\n",
        "            self.image_names = list(self.all_image_names[-300:])\n",
        "            self.labels = list(self.all_labels[-300:])\n",
        "             # define the test transforms\n",
        "            self.transform = transforms.Compose([\n",
        "                transforms.ToPILImage(),\n",
        "                transforms.Resize((400, 400)),\n",
        "                transforms.ToTensor(),\n",
        "            ])\n",
        "    def __len__(self):\n",
        "        return len(self.image_names)\n",
        "    \n",
        "    def __getitem__(self, index):\n",
        "        image = cv2.imread(f\"/content/drive/MyDrive/DL_dataset/Multi_Label_dataset/Images/{self.image_names[index]}.jpg\")\n",
        "        # convert the image from BGR to RGB color format\n",
        "        image = cv2.cvtColor(image, cv2.COLOR_BGR2RGB)\n",
        "        # apply image transforms\n",
        "        image = self.transform(image)\n",
        "        targets = self.labels[index]\n",
        "        \n",
        "        return {\n",
        "            'image': torch.tensor(image, dtype=torch.float32),\n",
        "            'label': torch.tensor(targets, dtype=torch.float32)\n",
        "        }"
      ],
      "metadata": {
        "id": "r1Bzd4bSUzrM"
      },
      "execution_count": null,
      "outputs": []
    },
    {
      "cell_type": "code",
      "source": [
        "from torchvision import models as models\n",
        "import torch.nn as nn\n",
        "def model(pretrained, requires_grad):\n",
        "    model = models.resnet50(progress=True, pretrained=pretrained)\n",
        "    # to freeze the hidden layers\n",
        "    if requires_grad == False:\n",
        "        for param in model.parameters():\n",
        "            param.requires_grad = False\n",
        "    # to train the hidden layers\n",
        "    elif requires_grad == True:\n",
        "        for param in model.parameters():\n",
        "            param.requires_grad = True\n",
        "    # make the classification layer learnable\n",
        "    # we have 25 classes in total\n",
        "    model.fc = nn.Linear(2048, 25)\n",
        "    return model"
      ],
      "metadata": {
        "id": "MeT7vIylU-HE"
      },
      "execution_count": null,
      "outputs": []
    },
    {
      "cell_type": "code",
      "source": [
        "def pred_acc(original, predicted):\n",
        "    return torch.round(predicted).eq(original).sum().numpy()/len(original)"
      ],
      "metadata": {
        "id": "RoaVTFJDcxJZ"
      },
      "execution_count": null,
      "outputs": []
    },
    {
      "cell_type": "code",
      "source": [
        "import torch\n",
        "from tqdm import tqdm\n",
        "# training function\n",
        "def train(model, dataloader, optimizer, criterion, train_data, device):\n",
        "    print('Training')\n",
        "    model.train()\n",
        "    counter = 0\n",
        "    train_running_loss = 0.0\n",
        "    train_running_acc=0.0\n",
        "    for i, data in tqdm(enumerate(dataloader), total=int(len(train_data)/dataloader.batch_size)):\n",
        "        counter += 1\n",
        "        data, target = data['image'].to(device), data['label'].to(device)\n",
        "        optimizer.zero_grad()\n",
        "        outputs = model(data)\n",
        "        # apply sigmoid activation to get all the outputs between 0 and 1\n",
        "        outputs = torch.sigmoid(outputs)\n",
        "        acc_=[]\n",
        "        for i1,d1 in enumerate(outputs, 0):\n",
        "          acc=pred_acc(torch.Tensor.cpu(target[i1]), torch.Tensor.cpu(d1))\n",
        "          acc_.append(acc)\n",
        "        loss = criterion(outputs, target)\n",
        "        train_running_acc+=(np.asarray(acc_).mean())\n",
        "        train_running_loss += loss.item()\n",
        "        # backpropagation\n",
        "        loss.backward()\n",
        "        # update optimizer parameters\n",
        "        optimizer.step()\n",
        "    train_acc=train_running_acc / counter   \n",
        "    train_loss = train_running_loss / counter\n",
        "    return train_loss, train_acc"
      ],
      "metadata": {
        "id": "LSLdsLsGVB7A"
      },
      "execution_count": null,
      "outputs": []
    },
    {
      "cell_type": "code",
      "source": [
        "def validate(model, dataloader, criterion, val_data, device):\n",
        "    print('Validating')\n",
        "    model.eval()\n",
        "    counter = 0\n",
        "    val_running_loss = 0.0\n",
        "    val_running_acc=0.0\n",
        "    with torch.no_grad():\n",
        "        for i, data in tqdm(enumerate(dataloader), total=int(len(val_data)/dataloader.batch_size)):\n",
        "            counter += 1\n",
        "            data, target = data['image'].to(device), data['label'].to(device)\n",
        "            outputs = model(data)\n",
        "            # apply sigmoid activation to get all the outputs between 0 and 1\n",
        "            outputs = torch.sigmoid(outputs)\n",
        "            acc_=[]\n",
        "            for i1,d1 in enumerate(outputs, 0):\n",
        "              acc=pred_acc(torch.Tensor.cpu(target[i1]), torch.Tensor.cpu(d1))\n",
        "              acc_.append(acc)\n",
        "            loss = criterion(outputs, target)\n",
        "            val_running_loss += loss.item()\n",
        "            val_running_acc+=(np.asarray(acc_).mean())\n",
        "        val_acc=val_running_acc / counter\n",
        "        val_loss = val_running_loss / counter\n",
        "        return val_loss, val_acc"
      ],
      "metadata": {
        "id": "cyoJ6JloVE3R"
      },
      "execution_count": null,
      "outputs": []
    },
    {
      "cell_type": "code",
      "source": [
        "# from . import models\n",
        "import torch\n",
        "import torch.nn as nn\n",
        "import torch.optim as optim\n",
        "import pandas as pd\n",
        "import matplotlib.pyplot as plt\n",
        "import matplotlib\n",
        "# from engine import train, validate\n",
        "# from dataset import ImageDataset\n",
        "from torch.utils.data import DataLoader\n",
        "matplotlib.style.use('ggplot')\n",
        "# initialize the computation device\n",
        "device = torch.device('cuda' if torch.cuda.is_available() else 'cpu')"
      ],
      "metadata": {
        "id": "fY_IYXDjVHrj"
      },
      "execution_count": null,
      "outputs": []
    },
    {
      "cell_type": "code",
      "source": [
        "device"
      ],
      "metadata": {
        "colab": {
          "base_uri": "https://localhost:8080/"
        },
        "id": "gbndS1gIWcuy",
        "outputId": "09bc524e-3f33-469d-825c-fb2ac1822a91"
      },
      "execution_count": null,
      "outputs": [
        {
          "output_type": "execute_result",
          "data": {
            "text/plain": [
              "device(type='cuda')"
            ]
          },
          "metadata": {},
          "execution_count": 9
        }
      ]
    },
    {
      "cell_type": "code",
      "source": [
        "model =model(pretrained=True, requires_grad=False).to(device)\n",
        "# learning parameters\n",
        "lr = 0.0001\n",
        "epochs = 20\n",
        "batch_size = 32\n",
        "optimizer = optim.Adam(model.parameters(), lr=lr)\n",
        "criterion = nn.BCELoss()"
      ],
      "metadata": {
        "colab": {
          "base_uri": "https://localhost:8080/",
          "height": 66,
          "referenced_widgets": [
            "7dadd637634b4506993c24bae7b2423f",
            "90e62d6ef4904f70bcb8ec7420c71961",
            "3aea8b3a9166414c8ff22fc38653b1ea",
            "e84f3e1bd8fe4d9b9b898e5db2f7fb5f",
            "84023591d3fb4ed8a859b44dc45739f8",
            "4d3e59ed898040d7b03d0726ce90a729",
            "3a0a29c4689044ca9b6a08a01a070dae",
            "81c66bb472b34e4da9148af64625830b",
            "60a3d0b1021a42f3a911cf62f07c19af",
            "ea9081d700794604b5873e4dd26e021e",
            "eb99c5e9ed974ad2a96c831a450459d7"
          ]
        },
        "id": "awZgMqxLWvpQ",
        "outputId": "0c11dc2b-935f-4fc6-ff18-18ab0fd8a15a"
      },
      "execution_count": null,
      "outputs": [
        {
          "output_type": "stream",
          "name": "stderr",
          "text": [
            "Downloading: \"https://download.pytorch.org/models/resnet50-0676ba61.pth\" to /root/.cache/torch/hub/checkpoints/resnet50-0676ba61.pth\n"
          ]
        },
        {
          "output_type": "display_data",
          "data": {
            "application/vnd.jupyter.widget-view+json": {
              "model_id": "7dadd637634b4506993c24bae7b2423f",
              "version_minor": 0,
              "version_major": 2
            },
            "text/plain": [
              "  0%|          | 0.00/97.8M [00:00<?, ?B/s]"
            ]
          },
          "metadata": {}
        }
      ]
    },
    {
      "cell_type": "code",
      "source": [
        "%cd '/content/drive/MyDrive/DL_dataset'"
      ],
      "metadata": {
        "colab": {
          "base_uri": "https://localhost:8080/"
        },
        "id": "OgRVO_IhXWIh",
        "outputId": "3ab72530-eee2-46da-bd70-bdc063a369f6"
      },
      "execution_count": null,
      "outputs": [
        {
          "output_type": "stream",
          "name": "stdout",
          "text": [
            "/content/drive/MyDrive/DL_dataset\n"
          ]
        }
      ]
    },
    {
      "cell_type": "code",
      "source": [
        "!ls"
      ],
      "metadata": {
        "colab": {
          "base_uri": "https://localhost:8080/"
        },
        "id": "XzKTJVf5YjqI",
        "outputId": "87b8198d-8a3a-45e4-a1d1-bc890daa5fe2"
      },
      "execution_count": null,
      "outputs": [
        {
          "output_type": "stream",
          "name": "stdout",
          "text": [
            "movie_posters.zip  Multi_Label_dataset\n"
          ]
        }
      ]
    },
    {
      "cell_type": "code",
      "source": [
        "img_zip_path ='/content/drive/MyDrive/DL_dataset/movie_posters.zip' "
      ],
      "metadata": {
        "id": "j9YXCB0wYr_C"
      },
      "execution_count": null,
      "outputs": []
    },
    {
      "cell_type": "code",
      "source": [
        "import os\n",
        "import zipfile\n",
        "import pandas as pd"
      ],
      "metadata": {
        "id": "PY_SdpCYZE8Y"
      },
      "execution_count": null,
      "outputs": []
    },
    {
      "cell_type": "code",
      "source": [
        "# zip_ref = zipfile.ZipFile(img_zip_path, 'r')\n",
        "# zip_ref.extractall()\n",
        "# zip_ref.close()"
      ],
      "metadata": {
        "id": "wMDmDba7ZI9m"
      },
      "execution_count": null,
      "outputs": []
    },
    {
      "cell_type": "code",
      "source": [
        "train_csv = pd.read_csv('/content/drive/MyDrive/DL_dataset/Multi_Label_dataset/train.csv')\n",
        "# train dataset\n",
        "train_data = ImageDataset(\n",
        "    train_csv, train=True, test=False\n",
        ")\n",
        "# validation dataset\n",
        "valid_data = ImageDataset(\n",
        "    train_csv, train=False, test=False\n",
        ")\n",
        "# train data loader\n",
        "train_loader = DataLoader(\n",
        "    train_data, \n",
        "    batch_size=batch_size,\n",
        "    shuffle=True\n",
        ")\n",
        "# validation data loader\n",
        "valid_loader = DataLoader(\n",
        "    valid_data, \n",
        "    batch_size=batch_size,\n",
        "    shuffle=False\n",
        ")"
      ],
      "metadata": {
        "colab": {
          "base_uri": "https://localhost:8080/"
        },
        "id": "KC9jAq4UW1bv",
        "outputId": "f3989c37-9e3a-41c8-ca33-d2aa3c72f201"
      },
      "execution_count": null,
      "outputs": [
        {
          "output_type": "stream",
          "name": "stdout",
          "text": [
            "Number of training images: 5440\n",
            "Number of validation images: 1814\n"
          ]
        }
      ]
    },
    {
      "cell_type": "code",
      "source": [
        "train_loss = []\n",
        "valid_loss = []\n",
        "for epoch in range(epochs):\n",
        "    print(f\"Epoch {epoch+1} of {epochs}\")\n",
        "    train_epoch_loss, train_epoch_acc = train(\n",
        "        model, train_loader, optimizer, criterion, train_data, device\n",
        "    )\n",
        "    valid_epoch_loss, valid_epoch_acc = validate(\n",
        "        model, valid_loader, criterion, valid_data, device\n",
        "    )\n",
        "    train_loss.append(train_epoch_loss)\n",
        "    valid_loss.append(valid_epoch_loss)\n",
        "    print(f\"Train Loss: {train_epoch_loss:.4f} , Train acc: {train_epoch_acc:.4f}\")\n",
        "    print(f'Val Loss: {valid_epoch_loss:.4f} , Valid acc: {valid_epoch_acc:.4f}')"
      ],
      "metadata": {
        "colab": {
          "base_uri": "https://localhost:8080/"
        },
        "id": "myWjMevSXPqk",
        "outputId": "d263131e-bf77-4927-d239-126e49c6ba54"
      },
      "execution_count": null,
      "outputs": [
        {
          "output_type": "stream",
          "name": "stdout",
          "text": [
            "Epoch 1 of 20\n",
            "Training\n"
          ]
        },
        {
          "output_type": "stream",
          "name": "stderr",
          "text": [
            "  0%|          | 0/170 [00:00<?, ?it/s]/usr/local/lib/python3.7/dist-packages/ipykernel_launcher.py:56: UserWarning: To copy construct from a tensor, it is recommended to use sourceTensor.clone().detach() or sourceTensor.clone().detach().requires_grad_(True), rather than torch.tensor(sourceTensor).\n",
            "100%|██████████| 170/170 [48:14<00:00, 17.03s/it]\n"
          ]
        },
        {
          "output_type": "stream",
          "name": "stdout",
          "text": [
            "Validating\n"
          ]
        },
        {
          "output_type": "stream",
          "name": "stderr",
          "text": [
            "48it [13:10, 16.47s/it]\n"
          ]
        },
        {
          "output_type": "stream",
          "name": "stdout",
          "text": [
            "Train Loss: 0.2736 , Train acc: 0.9023\n",
            "Val Loss: 0.2428 , Valid acc: 0.9143\n",
            "Epoch 2 of 20\n",
            "Training\n"
          ]
        },
        {
          "output_type": "stream",
          "name": "stderr",
          "text": [
            "100%|██████████| 170/170 [03:26<00:00,  1.21s/it]\n"
          ]
        },
        {
          "output_type": "stream",
          "name": "stdout",
          "text": [
            "Validating\n"
          ]
        },
        {
          "output_type": "stream",
          "name": "stderr",
          "text": [
            "48it [00:54,  1.14s/it]\n"
          ]
        },
        {
          "output_type": "stream",
          "name": "stdout",
          "text": [
            "Train Loss: 0.2346 , Train acc: 0.9154\n",
            "Val Loss: 0.2386 , Valid acc: 0.9166\n",
            "Epoch 3 of 20\n",
            "Training\n"
          ]
        },
        {
          "output_type": "stream",
          "name": "stderr",
          "text": [
            "100%|██████████| 170/170 [03:26<00:00,  1.21s/it]\n"
          ]
        },
        {
          "output_type": "stream",
          "name": "stdout",
          "text": [
            "Validating\n"
          ]
        },
        {
          "output_type": "stream",
          "name": "stderr",
          "text": [
            "48it [00:54,  1.14s/it]\n"
          ]
        },
        {
          "output_type": "stream",
          "name": "stdout",
          "text": [
            "Train Loss: 0.2284 , Train acc: 0.9175\n",
            "Val Loss: 0.2334 , Valid acc: 0.9175\n",
            "Epoch 4 of 20\n",
            "Training\n"
          ]
        },
        {
          "output_type": "stream",
          "name": "stderr",
          "text": [
            "100%|██████████| 170/170 [03:26<00:00,  1.21s/it]\n"
          ]
        },
        {
          "output_type": "stream",
          "name": "stdout",
          "text": [
            "Validating\n"
          ]
        },
        {
          "output_type": "stream",
          "name": "stderr",
          "text": [
            "48it [00:54,  1.14s/it]\n"
          ]
        },
        {
          "output_type": "stream",
          "name": "stdout",
          "text": [
            "Train Loss: 0.2241 , Train acc: 0.9182\n",
            "Val Loss: 0.2284 , Valid acc: 0.9172\n",
            "Epoch 5 of 20\n",
            "Training\n"
          ]
        },
        {
          "output_type": "stream",
          "name": "stderr",
          "text": [
            "100%|██████████| 170/170 [03:26<00:00,  1.21s/it]\n"
          ]
        },
        {
          "output_type": "stream",
          "name": "stdout",
          "text": [
            "Validating\n"
          ]
        },
        {
          "output_type": "stream",
          "name": "stderr",
          "text": [
            "48it [00:54,  1.14s/it]\n"
          ]
        },
        {
          "output_type": "stream",
          "name": "stdout",
          "text": [
            "Train Loss: 0.2205 , Train acc: 0.9184\n",
            "Val Loss: 0.2258 , Valid acc: 0.9181\n",
            "Epoch 6 of 20\n",
            "Training\n"
          ]
        },
        {
          "output_type": "stream",
          "name": "stderr",
          "text": [
            "100%|██████████| 170/170 [03:26<00:00,  1.21s/it]\n"
          ]
        },
        {
          "output_type": "stream",
          "name": "stdout",
          "text": [
            "Validating\n"
          ]
        },
        {
          "output_type": "stream",
          "name": "stderr",
          "text": [
            "48it [00:54,  1.14s/it]\n"
          ]
        },
        {
          "output_type": "stream",
          "name": "stdout",
          "text": [
            "Train Loss: 0.2183 , Train acc: 0.9187\n",
            "Val Loss: 0.2239 , Valid acc: 0.9173\n",
            "Epoch 7 of 20\n",
            "Training\n"
          ]
        },
        {
          "output_type": "stream",
          "name": "stderr",
          "text": [
            "100%|██████████| 170/170 [03:26<00:00,  1.21s/it]\n"
          ]
        },
        {
          "output_type": "stream",
          "name": "stdout",
          "text": [
            "Validating\n"
          ]
        },
        {
          "output_type": "stream",
          "name": "stderr",
          "text": [
            "48it [00:54,  1.14s/it]\n"
          ]
        },
        {
          "output_type": "stream",
          "name": "stdout",
          "text": [
            "Train Loss: 0.2156 , Train acc: 0.9193\n",
            "Val Loss: 0.2243 , Valid acc: 0.9181\n",
            "Epoch 8 of 20\n",
            "Training\n"
          ]
        },
        {
          "output_type": "stream",
          "name": "stderr",
          "text": [
            "100%|██████████| 170/170 [03:25<00:00,  1.21s/it]\n"
          ]
        },
        {
          "output_type": "stream",
          "name": "stdout",
          "text": [
            "Validating\n"
          ]
        },
        {
          "output_type": "stream",
          "name": "stderr",
          "text": [
            "48it [00:54,  1.14s/it]\n"
          ]
        },
        {
          "output_type": "stream",
          "name": "stdout",
          "text": [
            "Train Loss: 0.2140 , Train acc: 0.9196\n",
            "Val Loss: 0.2221 , Valid acc: 0.9185\n",
            "Epoch 9 of 20\n",
            "Training\n"
          ]
        },
        {
          "output_type": "stream",
          "name": "stderr",
          "text": [
            "100%|██████████| 170/170 [03:25<00:00,  1.21s/it]\n"
          ]
        },
        {
          "output_type": "stream",
          "name": "stdout",
          "text": [
            "Validating\n"
          ]
        },
        {
          "output_type": "stream",
          "name": "stderr",
          "text": [
            "48it [00:54,  1.14s/it]\n"
          ]
        },
        {
          "output_type": "stream",
          "name": "stdout",
          "text": [
            "Train Loss: 0.2127 , Train acc: 0.9198\n",
            "Val Loss: 0.2219 , Valid acc: 0.9182\n",
            "Epoch 10 of 20\n",
            "Training\n"
          ]
        },
        {
          "output_type": "stream",
          "name": "stderr",
          "text": [
            "100%|██████████| 170/170 [03:25<00:00,  1.21s/it]\n"
          ]
        },
        {
          "output_type": "stream",
          "name": "stdout",
          "text": [
            "Validating\n"
          ]
        },
        {
          "output_type": "stream",
          "name": "stderr",
          "text": [
            "48it [00:54,  1.14s/it]\n"
          ]
        },
        {
          "output_type": "stream",
          "name": "stdout",
          "text": [
            "Train Loss: 0.2116 , Train acc: 0.9197\n",
            "Val Loss: 0.2207 , Valid acc: 0.9179\n",
            "Epoch 11 of 20\n",
            "Training\n"
          ]
        },
        {
          "output_type": "stream",
          "name": "stderr",
          "text": [
            "100%|██████████| 170/170 [03:25<00:00,  1.21s/it]\n"
          ]
        },
        {
          "output_type": "stream",
          "name": "stdout",
          "text": [
            "Validating\n"
          ]
        },
        {
          "output_type": "stream",
          "name": "stderr",
          "text": [
            "48it [00:54,  1.14s/it]\n"
          ]
        },
        {
          "output_type": "stream",
          "name": "stdout",
          "text": [
            "Train Loss: 0.2101 , Train acc: 0.9203\n",
            "Val Loss: 0.2211 , Valid acc: 0.9190\n",
            "Epoch 12 of 20\n",
            "Training\n"
          ]
        },
        {
          "output_type": "stream",
          "name": "stderr",
          "text": [
            "100%|██████████| 170/170 [03:25<00:00,  1.21s/it]\n"
          ]
        },
        {
          "output_type": "stream",
          "name": "stdout",
          "text": [
            "Validating\n"
          ]
        },
        {
          "output_type": "stream",
          "name": "stderr",
          "text": [
            "48it [00:54,  1.14s/it]\n"
          ]
        },
        {
          "output_type": "stream",
          "name": "stdout",
          "text": [
            "Train Loss: 0.2090 , Train acc: 0.9202\n",
            "Val Loss: 0.2180 , Valid acc: 0.9190\n",
            "Epoch 13 of 20\n",
            "Training\n"
          ]
        },
        {
          "output_type": "stream",
          "name": "stderr",
          "text": [
            "100%|██████████| 170/170 [03:25<00:00,  1.21s/it]\n"
          ]
        },
        {
          "output_type": "stream",
          "name": "stdout",
          "text": [
            "Validating\n"
          ]
        },
        {
          "output_type": "stream",
          "name": "stderr",
          "text": [
            "48it [00:54,  1.14s/it]\n"
          ]
        },
        {
          "output_type": "stream",
          "name": "stdout",
          "text": [
            "Train Loss: 0.2082 , Train acc: 0.9203\n",
            "Val Loss: 0.2181 , Valid acc: 0.9184\n",
            "Epoch 14 of 20\n",
            "Training\n"
          ]
        },
        {
          "output_type": "stream",
          "name": "stderr",
          "text": [
            "100%|██████████| 170/170 [03:26<00:00,  1.21s/it]\n"
          ]
        },
        {
          "output_type": "stream",
          "name": "stdout",
          "text": [
            "Validating\n"
          ]
        },
        {
          "output_type": "stream",
          "name": "stderr",
          "text": [
            "48it [00:54,  1.13s/it]\n"
          ]
        },
        {
          "output_type": "stream",
          "name": "stdout",
          "text": [
            "Train Loss: 0.2078 , Train acc: 0.9207\n",
            "Val Loss: 0.2163 , Valid acc: 0.9190\n",
            "Epoch 15 of 20\n",
            "Training\n"
          ]
        },
        {
          "output_type": "stream",
          "name": "stderr",
          "text": [
            "100%|██████████| 170/170 [03:25<00:00,  1.21s/it]\n"
          ]
        },
        {
          "output_type": "stream",
          "name": "stdout",
          "text": [
            "Validating\n"
          ]
        },
        {
          "output_type": "stream",
          "name": "stderr",
          "text": [
            "48it [00:54,  1.13s/it]\n"
          ]
        },
        {
          "output_type": "stream",
          "name": "stdout",
          "text": [
            "Train Loss: 0.2071 , Train acc: 0.9204\n",
            "Val Loss: 0.2161 , Valid acc: 0.9189\n",
            "Epoch 16 of 20\n",
            "Training\n"
          ]
        },
        {
          "output_type": "stream",
          "name": "stderr",
          "text": [
            "100%|██████████| 170/170 [03:25<00:00,  1.21s/it]\n"
          ]
        },
        {
          "output_type": "stream",
          "name": "stdout",
          "text": [
            "Validating\n"
          ]
        },
        {
          "output_type": "stream",
          "name": "stderr",
          "text": [
            "48it [00:54,  1.14s/it]\n"
          ]
        },
        {
          "output_type": "stream",
          "name": "stdout",
          "text": [
            "Train Loss: 0.2062 , Train acc: 0.9209\n",
            "Val Loss: 0.2171 , Valid acc: 0.9191\n",
            "Epoch 17 of 20\n",
            "Training\n"
          ]
        },
        {
          "output_type": "stream",
          "name": "stderr",
          "text": [
            "100%|██████████| 170/170 [03:25<00:00,  1.21s/it]\n"
          ]
        },
        {
          "output_type": "stream",
          "name": "stdout",
          "text": [
            "Validating\n"
          ]
        },
        {
          "output_type": "stream",
          "name": "stderr",
          "text": [
            "48it [00:54,  1.14s/it]\n"
          ]
        },
        {
          "output_type": "stream",
          "name": "stdout",
          "text": [
            "Train Loss: 0.2054 , Train acc: 0.9218\n",
            "Val Loss: 0.2173 , Valid acc: 0.9189\n",
            "Epoch 18 of 20\n",
            "Training\n"
          ]
        },
        {
          "output_type": "stream",
          "name": "stderr",
          "text": [
            "100%|██████████| 170/170 [03:25<00:00,  1.21s/it]\n"
          ]
        },
        {
          "output_type": "stream",
          "name": "stdout",
          "text": [
            "Validating\n"
          ]
        },
        {
          "output_type": "stream",
          "name": "stderr",
          "text": [
            "48it [00:54,  1.14s/it]\n"
          ]
        },
        {
          "output_type": "stream",
          "name": "stdout",
          "text": [
            "Train Loss: 0.2050 , Train acc: 0.9213\n",
            "Val Loss: 0.2176 , Valid acc: 0.9189\n",
            "Epoch 19 of 20\n",
            "Training\n"
          ]
        },
        {
          "output_type": "stream",
          "name": "stderr",
          "text": [
            "100%|██████████| 170/170 [03:25<00:00,  1.21s/it]\n"
          ]
        },
        {
          "output_type": "stream",
          "name": "stdout",
          "text": [
            "Validating\n"
          ]
        },
        {
          "output_type": "stream",
          "name": "stderr",
          "text": [
            "48it [00:54,  1.14s/it]\n"
          ]
        },
        {
          "output_type": "stream",
          "name": "stdout",
          "text": [
            "Train Loss: 0.2045 , Train acc: 0.9214\n",
            "Val Loss: 0.2143 , Valid acc: 0.9199\n",
            "Epoch 20 of 20\n",
            "Training\n"
          ]
        },
        {
          "output_type": "stream",
          "name": "stderr",
          "text": [
            "100%|██████████| 170/170 [03:26<00:00,  1.21s/it]\n"
          ]
        },
        {
          "output_type": "stream",
          "name": "stdout",
          "text": [
            "Validating\n"
          ]
        },
        {
          "output_type": "stream",
          "name": "stderr",
          "text": [
            "48it [00:54,  1.14s/it]"
          ]
        },
        {
          "output_type": "stream",
          "name": "stdout",
          "text": [
            "Train Loss: 0.2044 , Train acc: 0.9215\n",
            "Val Loss: 0.2162 , Valid acc: 0.9194\n"
          ]
        },
        {
          "output_type": "stream",
          "name": "stderr",
          "text": [
            "\n"
          ]
        }
      ]
    },
    {
      "cell_type": "code",
      "source": [
        "torch.save({\n",
        "            'epoch': epochs,\n",
        "            'model_state_dict': model.state_dict(),\n",
        "            'optimizer_state_dict': optimizer.state_dict(),\n",
        "            'loss': criterion,\n",
        "            }, '/content/drive/MyDrive/DL_dataset/model.pth')\n",
        "# plot and save the train and validation line graphs\n",
        "plt.figure(figsize=(10, 7))\n",
        "plt.plot(train_loss, color='orange', label='train loss')\n",
        "plt.plot(valid_loss, color='red', label='validataion loss')\n",
        "plt.xlabel('Epochs')\n",
        "plt.ylabel('Loss')\n",
        "plt.legend()\n",
        "plt.savefig('/content/drive/MyDrive/DL_dataset/loss.png')\n",
        "plt.show()"
      ],
      "metadata": {
        "colab": {
          "base_uri": "https://localhost:8080/",
          "height": 445
        },
        "id": "bOGzAzhia2Ss",
        "outputId": "3d8b7673-7b8b-4696-f5cf-50913165913e"
      },
      "execution_count": null,
      "outputs": [
        {
          "output_type": "display_data",
          "data": {
            "image/png": "[encoded data removed]",
            "text/plain": [
              "<Figure size 720x504 with 1 Axes>"
            ]
          },
          "metadata": {}
        }
      ]
    },
    {
      "cell_type": "markdown",
      "source": [
        "Testing the data"
      ],
      "metadata": {
        "id": "WrzLSb3AiFHF"
      }
    },
    {
      "cell_type": "code",
      "source": [
        "\n",
        "import torch\n",
        "import numpy as np\n",
        "import pandas as pd\n",
        "import matplotlib.pyplot as plt\n",
        "from torch.utils.data import DataLoader"
      ],
      "metadata": {
        "id": "LUI875ughzFc"
      },
      "execution_count": null,
      "outputs": []
    },
    {
      "cell_type": "code",
      "source": [
        "from torchvision import models as models\n",
        "import torch.nn as nn\n",
        "def model2(pretrained, requires_grad):\n",
        "    model = models.resnet50(progress=True, pretrained=pretrained)\n",
        "    # to freeze the hidden layers\n",
        "    if requires_grad == False:\n",
        "        for param in model.parameters():\n",
        "            param.requires_grad = False\n",
        "    # to train the hidden layers\n",
        "    elif requires_grad == True:\n",
        "        for param in model.parameters():\n",
        "            param.requires_grad = True\n",
        "    # make the classification layer learnable\n",
        "    # we have 25 classes in total\n",
        "    model.fc = nn.Linear(2048, 25)\n",
        "    return model"
      ],
      "metadata": {
        "id": "e9iBGDfxisXy"
      },
      "execution_count": null,
      "outputs": []
    },
    {
      "cell_type": "code",
      "source": [
        "device = torch.device('cuda' if torch.cuda.is_available() else 'cpu')\n",
        "#intialize the model\n",
        "model = model2(pretrained=False, requires_grad=False).to(device)\n",
        "# load the model checkpoint\n",
        "checkpoint = torch.load('/content/drive/MyDrive/DL_dataset/model.pth')\n",
        "# load model weights state_dict\n",
        "model.load_state_dict(checkpoint['model_state_dict'])\n",
        "model.eval()"
      ],
      "metadata": {
        "id": "WBbDJUgXiMO9"
      },
      "execution_count": null,
      "outputs": []
    },
    {
      "cell_type": "code",
      "source": [
        "train_csv = pd.read_csv('/content/drive/MyDrive/DL_dataset/Multi_Label_dataset/train.csv')\n",
        "genres = train_csv.columns.values[2:]\n",
        "# prepare the test dataset and dataloader\n",
        "test_data = ImageDataset(\n",
        "    train_csv, train=False, test=True\n",
        ")\n",
        "test_loader = DataLoader(\n",
        "    test_data, \n",
        "    batch_size=1,\n",
        "    shuffle=False\n",
        ")"
      ],
      "metadata": {
        "id": "xRnbPs-miU1K"
      },
      "execution_count": null,
      "outputs": []
    },
    {
      "cell_type": "code",
      "source": [
        "genres"
      ],
      "metadata": {
        "id": "S46_q4YZOHWZ",
        "outputId": "6acde5be-d2c6-4554-8cf5-9ba9892521b5",
        "colab": {
          "base_uri": "https://localhost:8080/"
        }
      },
      "execution_count": null,
      "outputs": [
        {
          "output_type": "execute_result",
          "data": {
            "text/plain": [
              "array(['Action', 'Adventure', 'Animation', 'Biography', 'Comedy', 'Crime',\n",
              "       'Documentary', 'Drama', 'Family', 'Fantasy', 'History', 'Horror',\n",
              "       'Music', 'Musical', 'Mystery', 'N/A', 'News', 'Reality-TV',\n",
              "       'Romance', 'Sci-Fi', 'Short', 'Sport', 'Thriller', 'War',\n",
              "       'Western'], dtype=object)"
            ]
          },
          "metadata": {},
          "execution_count": 5
        }
      ]
    },
    {
      "cell_type": "code",
      "source": [
        "len(test_data)"
      ],
      "metadata": {
        "colab": {
          "base_uri": "https://localhost:8080/"
        },
        "id": "_G6CPF4Xjo67",
        "outputId": "fe4e2e4c-961b-438b-dc42-91169abc7192"
      },
      "execution_count": null,
      "outputs": [
        {
          "output_type": "execute_result",
          "data": {
            "text/plain": [
              "300"
            ]
          },
          "metadata": {},
          "execution_count": 12
        }
      ]
    },
    {
      "cell_type": "code",
      "source": [
        "for counter, data in enumerate(test_loader):\n",
        "    image, target = data['image'].to(device), data['label']\n",
        "    # get all the index positions where value == 1\n",
        "    target_indices = [i for i in range(len(target[0])) if target[0][i] == 1]\n",
        "    # get the predictions by passing the image through the model\n",
        "    outputs = model(image)\n",
        "    outputs = torch.sigmoid(outputs)\n",
        "    outputs = outputs.detach().cpu()\n",
        "    sorted_indices = np.argsort(outputs[0])\n",
        "    best = sorted_indices[-3:]\n",
        "    string_predicted = ''\n",
        "    string_actual = ''\n",
        "    for i in range(len(best)):\n",
        "        string_predicted += f\"{genres[best[i]]}    \"\n",
        "    for i in range(len(target_indices)):\n",
        "        string_actual += f\"{genres[target_indices[i]]}    \"\n",
        "    image = image.squeeze(0)\n",
        "    image = image.detach().cpu().numpy()\n",
        "    image = np.transpose(image, (1, 2, 0))\n",
        "    plt.imshow(image)\n",
        "    plt.axis('off')\n",
        "    plt.title(f\"PREDICTED: {string_predicted}\\nACTUAL: {string_actual}\")\n",
        "    plt.savefig(f\"/content/drive/MyDrive/DL_dataset/outputs/inference_{counter}.jpg\")\n",
        "    plt.show()"
      ],
      "metadata": {
        "id": "pQuGe9Gci9Zi"
      },
      "execution_count": null,
      "outputs": []
    },
    {
      "cell_type": "code",
      "source": [
        "count=0\n",
        "acc_=[]\n",
        "for counter, data in enumerate(test_loader):\n",
        "  count+=1\n",
        "  data, target = data['image'].to(device), data['label'].to(device)\n",
        "  outputs = model(data)\n",
        "  # apply sigmoid activation to get all the outputs between 0 and 1\n",
        "  outputs = torch.sigmoid(outputs)\n",
        "  for i1,d1 in enumerate(outputs, 0):\n",
        "    acc=pred_acc(torch.Tensor.cpu(target[i1]), torch.Tensor.cpu(d1))\n",
        "    acc_.append(acc)\n",
        "    #print(acc)\n",
        "print(sum(acc_) / count)\n"
      ],
      "metadata": {
        "id": "SSYdvgn3jDiC",
        "colab": {
          "base_uri": "https://localhost:8080/"
        },
        "outputId": "4acaf4a7-a554-4cc4-d244-5182404d83d0"
      },
      "execution_count": null,
      "outputs": [
        {
          "output_type": "stream",
          "name": "stderr",
          "text": [
            "/usr/local/lib/python3.7/dist-packages/ipykernel_launcher.py:56: UserWarning: To copy construct from a tensor, it is recommended to use sourceTensor.clone().detach() or sourceTensor.clone().detach().requires_grad_(True), rather than torch.tensor(sourceTensor).\n"
          ]
        },
        {
          "output_type": "stream",
          "name": "stdout",
          "text": [
            "0.9190666666666656\n"
          ]
        }
      ]
    },
    {
      "cell_type": "code",
      "source": [
        ""
      ],
      "metadata": {
        "id": "Wmi8JD3hFEU9"
      },
      "execution_count": null,
      "outputs": []
    }
  ]
}